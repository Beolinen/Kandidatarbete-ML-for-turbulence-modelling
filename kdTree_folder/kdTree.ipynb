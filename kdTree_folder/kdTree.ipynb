{
 "cells": [
  {
   "attachments": {},
   "cell_type": "markdown",
   "metadata": {},
   "source": [
    "# kdTree\n",
    "\n",
    "Creates a kdTree from the DNS data, enabling you to find C_my by using the kdTree as a lookup table.\n",
    "\n",
    "Then the estimated C_my is compared to the actual C_my to see how well the kdTree works.\n",
    "\n",
    "### Brute Force Solution"
   ]
  },
  {
   "cell_type": "code",
   "execution_count": null,
   "metadata": {},
   "outputs": [],
   "source": [
    "# Libraries:\n",
    "\n",
    "# Data manipulation\n",
    "import numpy as np\n",
    "from sklearn.preprocessing import StandardScaler\n",
    "import sklearn.metrics as sm\n",
    "from sklearn.model_selection import train_test_split\n",
    "\n",
    "# Plotting\n",
    "import matplotlib.pyplot as plt\n",
    "from matplotlib import cm\n",
    "\n",
    "# Calculations\n",
    "from gradients import compute_face_phi, dphidx, dphidy, init\n",
    "import scipy as sp\n",
    "import scipy.spatial\n",
    "import scipy.spatial.distance as distance\n",
    "from scipy.spatial import KDTree, cKDTree\n",
    "\n",
    "# Others\n",
    "import time\n",
    "import sys\n",
    "import warnings\n",
    "import matplotlib.cbook"
   ]
  },
  {
   "attachments": {},
   "cell_type": "markdown",
   "metadata": {},
   "source": [
    "Create the KDTree"
   ]
  },
  {
   "attachments": {},
   "cell_type": "markdown",
   "metadata": {},
   "source": [
    "### Read & manipulate DNS data"
   ]
  },
  {
   "attachments": {},
   "cell_type": "markdown",
   "metadata": {},
   "source": [
    "Choose case among   \n",
    "small_wave/     \n",
    "large_wave/     \n",
    "one_hill/   \n",
    "two_hills/"
   ]
  },
  {
   "cell_type": "code",
   "execution_count": null,
   "metadata": {},
   "outputs": [],
   "source": [
    "DNS_file_path = \"small_wave/\""
   ]
  },
  {
   "cell_type": "code",
   "execution_count": null,
   "metadata": {},
   "outputs": [],
   "source": [
    "# Load data from tec and mesh files\n",
    "tec = np.genfromtxt(DNS_file_path + \"tec.dat\", dtype=None, comments=\"%\")\n",
    "cell_faces = np.loadtxt(DNS_file_path + \"mesh.dat\")"
   ]
  },
  {
   "cell_type": "code",
   "execution_count": null,
   "metadata": {},
   "outputs": [],
   "source": [
    "# Assign parameters\n",
    "x_center = tec[:, 0]\n",
    "y_center = tec[:, 1] \n",
    "pressure = tec[:, 2]\n",
    "x_velocity = tec[:, 3]\n",
    "y_velocity = tec[:, 4]\n",
    "x_stress = tec[:, 5]  # stress tensor normal to x\n",
    "y_stress = tec[:, 6]  # stress tensor normal to y\n",
    "z_stress = tec[:, 7]  # stress tensor normal to z\n",
    "xy_stress = tec[:, 8]  # stress tensor normal to x & y\n",
    "kinetic_energy = 0.5 * (x_stress + y_stress + z_stress)  # Turbulent kinetic energy\n",
    "epsilon = tec[:, 9]  # Dissipation rate"
   ]
  },
  {
   "cell_type": "code",
   "execution_count": null,
   "metadata": {},
   "outputs": [],
   "source": [
    "# Define nxm matrix dimensions\n",
    "if max(y_center) == 1.:\n",
    "    n = 194\n",
    "    m = 170\n",
    "    viscosity = 1. / 10000.\n",
    "else:\n",
    "    viscosity = 1. / 10595.\n",
    "    if max(x_center) > 8.:\n",
    "        n = 162\n",
    "        m = 162\n",
    "    else:\n",
    "        n = 162\n",
    "        m = 402"
   ]
  },
  {
   "cell_type": "code",
   "execution_count": null,
   "metadata": {},
   "outputs": [],
   "source": [
    "# Function that takes many arrays and reshapes them to nxm matrices\n",
    "def reshape(*args, n, m):\n",
    "    return [np.reshape(arg, (n, m)) for arg in args]"
   ]
  },
  {
   "cell_type": "code",
   "execution_count": null,
   "metadata": {},
   "outputs": [],
   "source": [
    "def transpose(*args):\n",
    "    return [np.transpose(arg) for arg in args]"
   ]
  },
  {
   "cell_type": "code",
   "execution_count": null,
   "metadata": {},
   "outputs": [],
   "source": [
    "# Reshape & transpose all arrays\n",
    "x_center, y_center, pressure, x_velocity, y_velocity, x_stress, y_stress, z_stress, xy_stress, kinetic_energy, epsilon = reshape(x_center, y_center, pressure, x_velocity, y_velocity, x_stress, y_stress, z_stress, xy_stress, kinetic_energy, epsilon, n=n, m=m)\n",
    "x_center, y_center, pressure, x_velocity, y_velocity, x_stress, y_stress, z_stress, xy_stress, kinetic_energy, epsilon = transpose(x_center, y_center, pressure, x_velocity, y_velocity, x_stress, y_stress, z_stress, xy_stress, kinetic_energy, epsilon)"
   ]
  },
  {
   "cell_type": "code",
   "execution_count": null,
   "metadata": {},
   "outputs": [],
   "source": [
    "# Set boundary conditions\n",
    "\n",
    "# Set Neumann boundary conditions of p at upper and lower boundaries\n",
    "pressure[:, 1] = pressure[:, 2]\n",
    "pressure[:, -1] = pressure[:, -1 - 1]\n",
    "\n",
    "# Set periodic b.c on west boundary so that the east & west boundaries are connected\n",
    "x_velocity[0, :] = x_velocity[-1, :]\n",
    "y_velocity[0, :] = y_velocity[-1, :]\n",
    "pressure[0, :] = pressure[-1, :]\n",
    "x_stress[0, :] = x_stress[-1, :]"
   ]
  },
  {
   "cell_type": "code",
   "execution_count": null,
   "metadata": {},
   "outputs": [],
   "source": [
    "# Assign cell faces from data file xc_yc.dat\n",
    "# They are needed for the dphidx_dy routine\n",
    "\n",
    "x_face = cell_faces[:, 0]\n",
    "y_face = cell_faces[:, 1]\n",
    "x_face = np.reshape(x_face, (n - 1, m - 1))\n",
    "y_face = np.reshape(y_face, (n - 1, m - 1))\n",
    "x_face = np.transpose(x_face)\n",
    "y_face = np.transpose(y_face)"
   ]
  },
  {
   "cell_type": "code",
   "execution_count": null,
   "metadata": {},
   "outputs": [],
   "source": [
    "# Compute new cell centers\n",
    "x_center_average = 0.25 * (x_center[0:-1, 0:-1] + x_center[0:-1, 1:] + x_center[1:, 0:-1] + x_center[1:, 1:])\n",
    "y_center_average = 0.25 * (y_center[0:-1, 0:-1] + y_center[0:-1, 1:] + y_center[1:, 0:-1] + y_center[1:, 1:])"
   ]
  },
  {
   "cell_type": "code",
   "execution_count": null,
   "metadata": {},
   "outputs": [],
   "source": [
    "def delete_rows(*args, rows):\n",
    "    return [np.delete(arg, rows, axis=0) for arg in args]"
   ]
  },
  {
   "cell_type": "code",
   "execution_count": null,
   "metadata": {},
   "outputs": [],
   "source": [
    "def delete_columns(*args, columns):\n",
    "    return [np.delete(arg, columns, axis=1) for arg in args]"
   ]
  },
  {
   "cell_type": "code",
   "execution_count": null,
   "metadata": {},
   "outputs": [],
   "source": [
    "# Delete the last row & column of every parameter\n",
    "x_center, y_center, x_center_average, y_center_average, pressure, x_velocity, y_velocity, x_stress, y_stress, z_stress, xy_stress, kinetic_energy, epsilon = delete_rows(x_center, y_center, x_center_average, y_center_average, pressure, x_velocity, y_velocity, x_stress, y_stress, z_stress, xy_stress, kinetic_energy, epsilon, rows=-1)\n",
    "x_center, y_center, x_center_average, y_center_average, pressure, x_velocity, y_velocity, x_stress, y_stress, z_stress, xy_stress, kinetic_energy, epsilon = delete_columns(x_center, y_center, x_center_average, y_center_average, pressure, x_velocity, y_velocity, x_stress, y_stress, z_stress, xy_stress, kinetic_energy, epsilon, columns=-1)"
   ]
  },
  {
   "cell_type": "code",
   "execution_count": null,
   "metadata": {},
   "outputs": [],
   "source": [
    "# Delete the first row & column of every parameter except x_center & y_center\n",
    "pressure, x_velocity, y_velocity, x_stress, y_stress, z_stress, xy_stress, kinetic_energy, epsilon = delete_rows(pressure, x_velocity, y_velocity, x_stress, y_stress, z_stress, xy_stress, kinetic_energy, epsilon, rows=0)\n",
    "pressure, x_velocity, y_velocity, x_stress, y_stress, z_stress, xy_stress, kinetic_energy, epsilon = delete_columns(pressure, x_velocity, y_velocity, x_stress, y_stress, z_stress, xy_stress, kinetic_energy, epsilon, columns=0)"
   ]
  },
  {
   "cell_type": "code",
   "execution_count": null,
   "metadata": {},
   "outputs": [],
   "source": [
    "# compute geometric quantities\n",
    "areaw, areawx, areawy, areas, areasx, areasy, vol, fx, fy = init(x_center, y_center, x_center_average, y_center_average)"
   ]
  },
  {
   "cell_type": "code",
   "execution_count": null,
   "metadata": {},
   "outputs": [],
   "source": [
    "# Adjust matrix dimensions\n",
    "n = n - 2 \n",
    "m = m - 2"
   ]
  },
  {
   "cell_type": "code",
   "execution_count": null,
   "metadata": {},
   "outputs": [],
   "source": [
    "# Adjust epsilon at last cell upper cell\n",
    "epsilon[:, -1] = epsilon[:, -2]"
   ]
  },
  {
   "cell_type": "code",
   "execution_count": null,
   "metadata": {},
   "outputs": [],
   "source": [
    "# Compute face value of U and V\n",
    "x_velocity_west, x_velocity_south = compute_face_phi(x_velocity, fx, fy, m, n)\n",
    "y_velocity_west, y_velocity_south = compute_face_phi(y_velocity, fx, fy, m, n)\n",
    "\n",
    "# x derivatives\n",
    "dudx = dphidx(x_velocity_west, x_velocity_south, areawx, areasx, vol)\n",
    "dvdx = dphidx(y_velocity_west, y_velocity_south, areawx, areasx, vol)\n",
    "\n",
    "# y derivatives\n",
    "dudy = dphidy(x_velocity_west, x_velocity_south, areawy, areasy, vol)\n",
    "dvdy = dphidy(y_velocity_west, y_velocity_south, areawy, areasy, vol)"
   ]
  },
  {
   "cell_type": "code",
   "execution_count": null,
   "metadata": {},
   "outputs": [],
   "source": [
    "# Calculate correct C_my for prediction\n",
    "omega = epsilon / kinetic_energy / 0.09\n",
    "c_my = np.array(-xy_stress / (kinetic_energy * (dudy + dvdx)) * omega)"
   ]
  },
  {
   "cell_type": "code",
   "execution_count": null,
   "metadata": {},
   "outputs": [],
   "source": [
    "# Plot 3D surface of C_my\n",
    "fig = plt.figure()\n",
    "ax = fig.gca(projection='3d')\n",
    "surf = ax.plot_surface(x_center_average, y_center_average, c_my, cmap=cm.coolwarm, linewidth=0, antialiased=False)\n",
    "ax.set_xlabel('x')\n",
    "ax.set_ylabel('y')\n",
    "ax.set_zlabel('C_my')\n",
    "ax.set_title('C_my')\n",
    "fig.colorbar(surf, shrink=0.5, aspect=5)\n",
    "plt.show()"
   ]
  },
  {
   "cell_type": "code",
   "execution_count": null,
   "metadata": {},
   "outputs": [],
   "source": [
    "# Adjust C_my with the first method\n",
    "cmy_DNS = np.where(c_my > 0, c_my, 1)\n",
    "cmy_DNS = np.where(cmy_DNS <= 2, cmy_DNS, 1)"
   ]
  },
  {
   "cell_type": "code",
   "execution_count": null,
   "metadata": {},
   "outputs": [],
   "source": [
    "# Plot 3D surface of cmy_DNS\n",
    "# Why is the plot the same as the one above?\n",
    "# The cmy_DNS array is the same as the c_my array because the np\n",
    "fig = plt.figure()\n",
    "ax = fig.gca(projection='3d')\n",
    "surf = ax.plot_surface(x_center_average, y_center_average, cmy_DNS, cmap=cm.coolwarm, linewidth=0, antialiased=False)\n",
    "ax.set_xlabel('x')\n",
    "ax.set_ylabel('y')\n",
    "ax.set_zlabel('C_my')\n",
    "ax.set_title('C_my')\n",
    "fig.colorbar(surf, shrink=0.5, aspect=5)\n",
    "plt.show()"
   ]
  },
  {
   "cell_type": "code",
   "execution_count": null,
   "metadata": {},
   "outputs": [],
   "source": [
    "c_my_tree = KDTree(c_my)"
   ]
  },
  {
   "cell_type": "code",
   "execution_count": null,
   "metadata": {},
   "outputs": [],
   "source": [
    "# Function for calculating the sum of the distance between a point and its k nearest neighbors\n",
    "def sum_of_distances(node, k):\n",
    "    distance, index = c_my_tree.query(node, k=k)\n",
    "    return np.sum(distance)"
   ]
  },
  {
   "cell_type": "code",
   "execution_count": null,
   "metadata": {},
   "outputs": [],
   "source": [
    "# Function for finding the radius of the k nearest neighbors\n",
    "def radius_of_knn(node, k):\n",
    "    distance, index = c_my_tree.query(node, k=k)\n",
    "    return distance[-1]"
   ]
  },
  {
   "cell_type": "code",
   "execution_count": null,
   "metadata": {},
   "outputs": [],
   "source": [
    "# Function that adjusts a node of a tree to the average of their k nearest neighbors. Returns KDTree with adjusted node.\n",
    "def adjust_node(KDtree, node, k):\n",
    "    distance, index = KDtree.query(node, k=k)\n",
    "    adjusted_node = 1 #np.mean(c_my[index], axis=0)\n",
    "    KDtree.data[index[0]] = adjusted_node\n",
    "    return KDtree"
   ]
  },
  {
   "cell_type": "code",
   "execution_count": null,
   "metadata": {},
   "outputs": [],
   "source": [
    "def find_bad_nodes(KDTree, k):\n",
    "    bad_nodes = []\n",
    "    for node in KDTree.data:\n",
    "        if radius_of_knn(node, k) > 2: # Choose between sum_of_distances and distance_to_one\n",
    "            bad_nodes.append(node)\n",
    "    return bad_nodes"
   ]
  },
  {
   "cell_type": "code",
   "execution_count": null,
   "metadata": {},
   "outputs": [],
   "source": [
    "# Checks all nodes in the tree & adjusts them if they are bad. Returns the adjusted tree\n",
    "def adjust_tree(KDTree, k):\n",
    "    bad_nodes = find_bad_nodes(KDTree, k)\n",
    "    for node in bad_nodes:\n",
    "        node = adjust_node(KDTree, node, k)\n",
    "    return KDTree"
   ]
  },
  {
   "cell_type": "code",
   "execution_count": null,
   "metadata": {},
   "outputs": [],
   "source": [
    "c_my_tree = adjust_tree(c_my_tree, 5)"
   ]
  },
  {
   "cell_type": "code",
   "execution_count": null,
   "metadata": {},
   "outputs": [],
   "source": [
    "# Plot 3D surface of C_my again\n",
    "fig = plt.figure()\n",
    "ax = fig.gca(projection='3d')\n",
    "surf = ax.plot_surface(x_center_average, y_center_average, c_my_tree.data, cmap=cm.coolwarm, linewidth=0, antialiased=False)\n",
    "ax.set_xlabel('x')\n",
    "ax.set_ylabel('y')\n",
    "ax.set_zlabel('C_my')\n",
    "ax.set_title('C_my')\n",
    "fig.colorbar(surf, shrink=0.5, aspect=5)\n",
    "plt.show()"
   ]
  },
  {
   "cell_type": "code",
   "execution_count": null,
   "metadata": {},
   "outputs": [],
   "source": [
    "# Randomly select training data from cmy_DNS, x_center_average & y_center_average arrays\n",
    "# The training data is used to create the k-d tree\n",
    "# The test data is used to test the k-d tree\n",
    "\n",
    "# Training data\n",
    "cmy_DNS_train = cmy_DNS.flatten()\n",
    "x_center_average_train = x_center_average.flatten()\n",
    "y_center_average_train = y_center_average.flatten()\n",
    "\n",
    "cmy_DNS_train = np.array([cmy_DNS_train, x_center_average_train, y_center_average_train]).T\n",
    "\n",
    "# Test data\n",
    "cmy_DNS_test = cmy_DNS.flatten()\n",
    "x_center_average_test = x_center_average.flatten()\n",
    "y_center_average_test = y_center_average.flatten()\n",
    "\n",
    "cmy_DNS_test = np.array([cmy_DNS_test, x_center_average_test, y_center_average_test]).T"
   ]
  },
  {
   "cell_type": "code",
   "execution_count": null,
   "metadata": {},
   "outputs": [],
   "source": [
    "# Plot 3D surface of training data to check if it is random\n",
    "fig = plt.figure()\n",
    "ax = fig.gca(projection='3d')\n",
    "surf = ax.plot_surface(x_center_average_train, y_center_average_train, cmy_DNS_train, cmap=cm.coolwarm, linewidth=0, antialiased=False)\n",
    "ax.set_xlabel('x')\n",
    "ax.set_ylabel('y')\n",
    "ax.set_zlabel('C_my')\n",
    "ax.set_title('C_my')\n",
    "fig.colorbar(surf, shrink=0.5, aspect=5)\n",
    "plt.show()"
   ]
  },
  {
   "attachments": {},
   "cell_type": "markdown",
   "metadata": {},
   "source": [
    "# TODO\n",
    "Fixa \"outliers\" datapunkter från DNS.\n",
    "Kolla radien till 30 närmaste punkter -> om för stor, ändra till snittet av närliggande punkter.\n",
    "\n",
    "Fråga Lars:\n",
    "Varför beräkna nya cell centers?"
   ]
  }
 ],
 "metadata": {
  "kernelspec": {
   "display_name": "base",
   "language": "python",
   "name": "python3"
  },
  "language_info": {
   "codemirror_mode": {
    "name": "ipython",
    "version": 3
   },
   "file_extension": ".py",
   "mimetype": "text/x-python",
   "name": "python",
   "nbconvert_exporter": "python",
   "pygments_lexer": "ipython3",
   "version": "3.9.13"
  },
  "orig_nbformat": 4,
  "vscode": {
   "interpreter": {
    "hash": "94f2a76ffbe1ad8d9ee163905647d2befbdfd8683fffbc75e51b10d82a8ca9e4"
   }
  }
 },
 "nbformat": 4,
 "nbformat_minor": 2
}
