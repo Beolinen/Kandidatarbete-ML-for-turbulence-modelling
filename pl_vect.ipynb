{
 "cells": [
  {
   "cell_type": "code",
   "execution_count": 3,
   "metadata": {},
   "outputs": [],
   "source": [
    "#Imports!:!:\n",
    "import numpy as np\n",
    "import matplotlib.pyplot as plt\n",
    "from sklearn.preprocessing import StandardScaler\n",
    "from sklearn.svm import SVR  # for building SVR model\n",
    "import sklearn.metrics as sm\n",
    "from gradients import compute_face_phi, dphidx, dphidy, init\n",
    "import warnings\n",
    "import matplotlib.cbook\n",
    "import time\n",
    "import sys"
   ]
  },
  {
   "cell_type": "code",
   "execution_count": 6,
   "metadata": {},
   "outputs": [
    {
     "data": {
      "text/plain": [
       "array([[0],\n",
       "       [1],\n",
       "       [2],\n",
       "       [3],\n",
       "       [4],\n",
       "       [5]])"
      ]
     },
     "execution_count": 6,
     "metadata": {},
     "output_type": "execute_result"
    }
   ],
   "source": [
    "a = np.arange(6).reshape((3, 2))\n",
    "a\n",
    "a = a.reshape(-1,1)\n",
    "a\n"
   ]
  },
  {
   "attachments": {},
   "cell_type": "markdown",
   "metadata": {},
   "source": [
    "get_ni_nj returns the wanted dimentions on the different cases. It could probably be decided based on the path names, but we use magic numbers. "
   ]
  },
  {
   "cell_type": "code",
   "execution_count": null,
   "metadata": {},
   "outputs": [],
   "source": [
    "def get_ni_nj(x:np.array, y:np.array):\n",
    "    if max(y) == 1.:\n",
    "        ni,nj = 170,194\n",
    "        nu = 1. / 10000.\n",
    "    else:\n",
    "        nu = 1. / 10595.\n",
    "        if max(x) > 8.:\n",
    "            ni,nj = 162,162\n",
    "        else:\n",
    "            ni,nj = 402,162\n",
    "    return nu,ni,nj  "
   ]
  },
  {
   "attachments": {},
   "cell_type": "markdown",
   "metadata": {},
   "source": [
    "this is a version that matches on path names:"
   ]
  },
  {
   "cell_type": "code",
   "execution_count": 1,
   "metadata": {},
   "outputs": [],
   "source": [
    "def get_ni_nj(path:str):\n",
    "\n",
    "    nu,ni,nj = 0,0,0\n",
    "    \n",
    "    if path == \"small_wave/tec.dat\" or path == \"large_wave/tec_large.dat\":\n",
    "        nu,ni,nj = 0.0001,170,194\n",
    "    if path == \"one_hill/tec_OneHill.dat\":\n",
    "        nu,ni,nj = (1./10595.),162,162\n",
    "    if path == \"two_hills/tecTwoHills.dat\":\n",
    "        nu,ni,nj = (1./10595.),402,162\n",
    "\n",
    "    return nu,ni,nj"
   ]
  },
  {
   "cell_type": "code",
   "execution_count": 2,
   "metadata": {},
   "outputs": [],
   "source": [
    "def dat_to_variable_arrays(path:str):\n",
    "    tec = np.genfromtxt(path, dtype=None, comments=\"%\").transpose() #turn every column in the .dat file to a row in tec\n",
    "    k_DNS = 0.5 * (tec[5] + tec[6] + tec[7])                        #Turbulent kinetic energy (?)\n",
    "\n",
    "    nu,ni,nj = get_ni_nj(path)                      #get the dimentions on of the data, based on path name\n",
    "\n",
    "    k_DNS = np.reshape(k_DNS, (nj, ni)).transpose() #k_DNS has the shape [ni,nj]\n",
    "    tec = tec.reshape(10,nj,ni)                     #tec is reshaped so every variable has the shape [nj,ni]\n",
    "    tec = np.transpose(tec,axes=[0,2,1])            #tec is transposed so that every variable has the shape [ni,nj]\n",
    "\n",
    "    x       = tec[0]\n",
    "    y       = tec[1]\n",
    "    p       = tec[2]\n",
    "    u       = tec[3]\n",
    "    v       = tec[4]\n",
    "    uu      = tec[5]\n",
    "    vv      = tec[6]\n",
    "    ww      = tec[7]\n",
    "    uv      = tec[8]\n",
    "    eps_DNS = tec[9]\n",
    "\n",
    "    return x,y,p,u,v,uu,vv,ww,uv,eps_DNS,k_DNS,ni,nj"
   ]
  }
 ],
 "metadata": {
  "kernelspec": {
   "display_name": "base",
   "language": "python",
   "name": "python3"
  },
  "language_info": {
   "codemirror_mode": {
    "name": "ipython",
    "version": 3
   },
   "file_extension": ".py",
   "mimetype": "text/x-python",
   "name": "python",
   "nbconvert_exporter": "python",
   "pygments_lexer": "ipython3",
   "version": "3.9.13"
  },
  "orig_nbformat": 4
 },
 "nbformat": 4,
 "nbformat_minor": 2
}
